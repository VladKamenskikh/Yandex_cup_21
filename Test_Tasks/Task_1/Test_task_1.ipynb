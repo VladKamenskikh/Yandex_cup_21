{
 "cells": [
  {
   "cell_type": "code",
   "execution_count": 205,
   "metadata": {
    "collapsed": true
   },
   "outputs": [],
   "source": [
    "import pandas as pd"
   ]
  },
  {
   "cell_type": "code",
   "execution_count": 206,
   "outputs": [],
   "source": [
    "df_import = pd.read_csv('log.csv')"
   ],
   "metadata": {
    "collapsed": false,
    "pycharm": {
     "name": "#%%\n"
    }
   }
  },
  {
   "cell_type": "code",
   "execution_count": 207,
   "outputs": [],
   "source": [
    "df = df_import.copy()"
   ],
   "metadata": {
    "collapsed": false,
    "pycharm": {
     "name": "#%%\n"
    }
   }
  },
  {
   "cell_type": "code",
   "execution_count": 208,
   "outputs": [],
   "source": [
    "df['date']= pd.to_datetime(df['date'], format=\"%Y-%m-%d_%H:%M:%S\")"
   ],
   "metadata": {
    "collapsed": false,
    "pycharm": {
     "name": "#%%\n"
    }
   }
  },
  {
   "cell_type": "code",
   "execution_count": 209,
   "outputs": [],
   "source": [
    "df = df.reset_index()"
   ],
   "metadata": {
    "collapsed": false,
    "pycharm": {
     "name": "#%%\n"
    }
   }
  },
  {
   "cell_type": "code",
   "execution_count": 210,
   "outputs": [],
   "source": [
    "df = df.sort_values(['user','date'])"
   ],
   "metadata": {
    "collapsed": false,
    "pycharm": {
     "name": "#%%\n"
    }
   }
  },
  {
   "cell_type": "code",
   "execution_count": 211,
   "outputs": [],
   "source": [
    "df['diff'] = df.groupby('user')['date'].diff(1)"
   ],
   "metadata": {
    "collapsed": false,
    "pycharm": {
     "name": "#%%\n"
    }
   }
  },
  {
   "cell_type": "code",
   "execution_count": 212,
   "outputs": [],
   "source": [
    "sessions_start_df = df[(df['diff'].isnull()) | (df['diff'] > '1800 seconds')].reset_index()\n",
    "sessions_start_df['session_id'] = sessions_start_df['index']"
   ],
   "metadata": {
    "collapsed": false,
    "pycharm": {
     "name": "#%%\n"
    }
   }
  },
  {
   "cell_type": "code",
   "execution_count": 213,
   "outputs": [],
   "source": [
    "df = df.sort_values('index')\n",
    "sessions_start_df = sessions_start_df.sort_values('index')\n",
    "df = pd.merge_asof(df,sessions_start_df[['index','user','session_id']],on='index',by='user')"
   ],
   "metadata": {
    "collapsed": false,
    "pycharm": {
     "name": "#%%\n"
    }
   }
  },
  {
   "cell_type": "code",
   "execution_count": 214,
   "outputs": [],
   "source": [
    "df = df.sort_values('session_id')"
   ],
   "metadata": {
    "collapsed": false,
    "pycharm": {
     "name": "#%%\n"
    }
   }
  },
  {
   "cell_type": "code",
   "execution_count": 215,
   "outputs": [],
   "source": [
    "df['is_first_event_in_session'] = df['index'] == df['session_id']"
   ],
   "metadata": {
    "collapsed": false,
    "pycharm": {
     "name": "#%%\n"
    }
   }
  },
  {
   "cell_type": "code",
   "execution_count": 216,
   "outputs": [],
   "source": [
    "df = df.set_index(['date'])"
   ],
   "metadata": {
    "collapsed": false,
    "pycharm": {
     "name": "#%%\n"
    }
   }
  },
  {
   "cell_type": "code",
   "execution_count": 217,
   "outputs": [
    {
     "data": {
      "text/plain": "5256"
     },
     "execution_count": 217,
     "metadata": {},
     "output_type": "execute_result"
    }
   ],
   "source": [
    "df[df.is_first_event_in_session==True].loc['2020-04-19']['session_id'].count()"
   ],
   "metadata": {
    "collapsed": false,
    "pycharm": {
     "name": "#%%\n"
    }
   }
  },
  {
   "cell_type": "markdown",
   "source": [
    "Ответ на 1 вопрос: 5256 сессий началось 2020-04-19"
   ],
   "metadata": {
    "collapsed": false,
    "pycharm": {
     "name": "#%% md\n"
    }
   }
  },
  {
   "cell_type": "code",
   "execution_count": 218,
   "outputs": [],
   "source": [
    "df2 = df_import.copy()"
   ],
   "metadata": {
    "collapsed": false,
    "pycharm": {
     "name": "#%%\n"
    }
   }
  },
  {
   "cell_type": "code",
   "execution_count": 219,
   "outputs": [],
   "source": [
    "df2 = df2[(df2.event_type == 2) & (df2.parameter == 'video')]"
   ],
   "metadata": {
    "collapsed": false,
    "pycharm": {
     "name": "#%%\n"
    }
   }
  },
  {
   "cell_type": "code",
   "execution_count": 220,
   "outputs": [],
   "source": [
    "df2['date_only'] = pd.to_datetime(df2['date'], format=\"%Y-%m-%d_%H:%M:%S\").dt.date"
   ],
   "metadata": {
    "collapsed": false,
    "pycharm": {
     "name": "#%%\n"
    }
   }
  },
  {
   "cell_type": "code",
   "execution_count": 231,
   "outputs": [
    {
     "data": {
      "text/plain": "datetime.date(2020, 4, 24)"
     },
     "execution_count": 231,
     "metadata": {},
     "output_type": "execute_result"
    }
   ],
   "source": [
    "df2.groupby('date_only')['user'].nunique().idxmax()"
   ],
   "metadata": {
    "collapsed": false,
    "pycharm": {
     "name": "#%%\n"
    }
   }
  },
  {
   "cell_type": "markdown",
   "source": [
    "Ответ на 2 вопрос: 391 пользователь 2020-04-24"
   ],
   "metadata": {
    "collapsed": false,
    "pycharm": {
     "name": "#%% md\n"
    }
   }
  },
  {
   "cell_type": "code",
   "execution_count": 222,
   "outputs": [],
   "source": [
    "df3 = df_import.copy()"
   ],
   "metadata": {
    "collapsed": false,
    "pycharm": {
     "name": "#%%\n"
    }
   }
  },
  {
   "cell_type": "code",
   "execution_count": 223,
   "outputs": [],
   "source": [
    "df3['date'] = pd.to_datetime(df3['date'], format=\"%Y-%m-%d_%H:%M:%S\")"
   ],
   "metadata": {
    "collapsed": false,
    "pycharm": {
     "name": "#%%\n"
    }
   }
  },
  {
   "cell_type": "code",
   "execution_count": 224,
   "outputs": [
    {
     "data": {
      "text/plain": "                 date    user  event_type parameter\n1 2020-04-01 00:01:27  456430           3      text\n0 2020-04-01 00:04:03  976455           3       NaN\n2 2020-04-01 00:06:32  566998           1   unknown\n3 2020-04-01 00:08:28  927997           3       NaN\n4 2020-04-01 00:08:53  237940           4   unknown\n5 2020-04-01 00:09:50  556358           3   unknown\n6 2020-04-01 00:15:25  422717           2     video\n7 2020-04-01 00:15:36  286010           2     music\n8 2020-04-01 00:16:50  566130           2       NaN\n9 2020-04-01 00:20:51  327038           2     video",
      "text/html": "<div>\n<style scoped>\n    .dataframe tbody tr th:only-of-type {\n        vertical-align: middle;\n    }\n\n    .dataframe tbody tr th {\n        vertical-align: top;\n    }\n\n    .dataframe thead th {\n        text-align: right;\n    }\n</style>\n<table border=\"1\" class=\"dataframe\">\n  <thead>\n    <tr style=\"text-align: right;\">\n      <th></th>\n      <th>date</th>\n      <th>user</th>\n      <th>event_type</th>\n      <th>parameter</th>\n    </tr>\n  </thead>\n  <tbody>\n    <tr>\n      <th>1</th>\n      <td>2020-04-01 00:01:27</td>\n      <td>456430</td>\n      <td>3</td>\n      <td>text</td>\n    </tr>\n    <tr>\n      <th>0</th>\n      <td>2020-04-01 00:04:03</td>\n      <td>976455</td>\n      <td>3</td>\n      <td>NaN</td>\n    </tr>\n    <tr>\n      <th>2</th>\n      <td>2020-04-01 00:06:32</td>\n      <td>566998</td>\n      <td>1</td>\n      <td>unknown</td>\n    </tr>\n    <tr>\n      <th>3</th>\n      <td>2020-04-01 00:08:28</td>\n      <td>927997</td>\n      <td>3</td>\n      <td>NaN</td>\n    </tr>\n    <tr>\n      <th>4</th>\n      <td>2020-04-01 00:08:53</td>\n      <td>237940</td>\n      <td>4</td>\n      <td>unknown</td>\n    </tr>\n    <tr>\n      <th>5</th>\n      <td>2020-04-01 00:09:50</td>\n      <td>556358</td>\n      <td>3</td>\n      <td>unknown</td>\n    </tr>\n    <tr>\n      <th>6</th>\n      <td>2020-04-01 00:15:25</td>\n      <td>422717</td>\n      <td>2</td>\n      <td>video</td>\n    </tr>\n    <tr>\n      <th>7</th>\n      <td>2020-04-01 00:15:36</td>\n      <td>286010</td>\n      <td>2</td>\n      <td>music</td>\n    </tr>\n    <tr>\n      <th>8</th>\n      <td>2020-04-01 00:16:50</td>\n      <td>566130</td>\n      <td>2</td>\n      <td>NaN</td>\n    </tr>\n    <tr>\n      <th>9</th>\n      <td>2020-04-01 00:20:51</td>\n      <td>327038</td>\n      <td>2</td>\n      <td>video</td>\n    </tr>\n  </tbody>\n</table>\n</div>"
     },
     "execution_count": 224,
     "metadata": {},
     "output_type": "execute_result"
    }
   ],
   "source": [
    "df3.sort_values('date').head(10)"
   ],
   "metadata": {
    "collapsed": false,
    "pycharm": {
     "name": "#%%\n"
    }
   }
  },
  {
   "cell_type": "code",
   "execution_count": 225,
   "outputs": [
    {
     "name": "stdout",
     "output_type": "stream",
     "text": [
      "66\n",
      "2020-04-09 13:00:00\n"
     ]
    }
   ],
   "source": [
    "interval_1 = df3.groupby(pd.Grouper(key=\"date\", freq=\"5min\"))['user'].count()\n",
    "print(interval_1.max())\n",
    "print(interval_1.idxmax())"
   ],
   "metadata": {
    "collapsed": false,
    "pycharm": {
     "name": "#%%\n"
    }
   }
  },
  {
   "cell_type": "code",
   "execution_count": 226,
   "outputs": [
    {
     "name": "stdout",
     "output_type": "stream",
     "text": [
      "68\n",
      "2020-04-09 13:06:00\n"
     ]
    }
   ],
   "source": [
    "interval_2 = df3.groupby(pd.Grouper(key=\"date\", freq=\"5min\", origin='2020-04-01 00:01:00'))['user'].count()\n",
    "print(interval_2.max())\n",
    "print(interval_2.idxmax())"
   ],
   "metadata": {
    "collapsed": false,
    "pycharm": {
     "name": "#%%\n"
    }
   }
  },
  {
   "cell_type": "code",
   "execution_count": 227,
   "outputs": [
    {
     "name": "stdout",
     "output_type": "stream",
     "text": [
      "70\n",
      "2020-04-09 13:07:00\n"
     ]
    }
   ],
   "source": [
    "interval_3 = df3.groupby(pd.Grouper(key=\"date\", freq=\"5min\", origin='2020-04-01 00:02:00'))['user'].count()\n",
    "print(interval_3.max())\n",
    "print(interval_3.idxmax())"
   ],
   "metadata": {
    "collapsed": false,
    "pycharm": {
     "name": "#%%\n"
    }
   }
  },
  {
   "cell_type": "code",
   "execution_count": 228,
   "outputs": [
    {
     "name": "stdout",
     "output_type": "stream",
     "text": [
      "68\n",
      "2020-04-09 13:08:00\n"
     ]
    }
   ],
   "source": [
    "interval_4 = df3.groupby(pd.Grouper(key=\"date\", freq=\"5min\", origin='2020-04-01 00:03:00'))['user'].count()\n",
    "print(interval_4.max())\n",
    "print(interval_4.idxmax())"
   ],
   "metadata": {
    "collapsed": false,
    "pycharm": {
     "name": "#%%\n"
    }
   }
  },
  {
   "cell_type": "code",
   "execution_count": 229,
   "outputs": [
    {
     "name": "stdout",
     "output_type": "stream",
     "text": [
      "63\n",
      "2020-04-03 15:04:00\n"
     ]
    }
   ],
   "source": [
    "interval_5 = df3.groupby(pd.Grouper(key=\"date\", freq=\"5min\", origin='2020-04-01 00:04:00'))['user'].count()\n",
    "print(interval_5.max())\n",
    "print(interval_5.idxmax())"
   ],
   "metadata": {
    "collapsed": false,
    "pycharm": {
     "name": "#%%\n"
    }
   }
  },
  {
   "cell_type": "code",
   "execution_count": 230,
   "outputs": [
    {
     "name": "stdout",
     "output_type": "stream",
     "text": [
      "66\n",
      "2020-04-09 13:00:00\n"
     ]
    }
   ],
   "source": [
    "interval_6 = df3.groupby(pd.Grouper(key=\"date\", freq=\"5min\", origin='2020-04-01 00:05:00'))['user'].count()\n",
    "print(interval_6.max())\n",
    "print(interval_6.idxmax())"
   ],
   "metadata": {
    "collapsed": false,
    "pycharm": {
     "name": "#%%\n"
    }
   }
  },
  {
   "cell_type": "markdown",
   "source": [
    "Ответ: 70 событий, начало интервала 2020-04-09 13:02:00"
   ],
   "metadata": {
    "collapsed": false,
    "pycharm": {
     "name": "#%% md\n"
    }
   }
  }
 ],
 "metadata": {
  "kernelspec": {
   "display_name": "Python 3",
   "language": "python",
   "name": "python3"
  },
  "language_info": {
   "codemirror_mode": {
    "name": "ipython",
    "version": 2
   },
   "file_extension": ".py",
   "mimetype": "text/x-python",
   "name": "python",
   "nbconvert_exporter": "python",
   "pygments_lexer": "ipython2",
   "version": "2.7.6"
  }
 },
 "nbformat": 4,
 "nbformat_minor": 0
}